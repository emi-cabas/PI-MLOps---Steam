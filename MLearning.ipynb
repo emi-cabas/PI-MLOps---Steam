{
 "cells": [
  {
   "cell_type": "code",
   "execution_count": 64,
   "metadata": {},
   "outputs": [
    {
     "name": "stdout",
     "output_type": "stream",
     "text": [
      "<class 'pandas.core.frame.DataFrame'>\n",
      "RangeIndex: 32135 entries, 0 to 32134\n",
      "Data columns (total 4 columns):\n",
      " #   Column        Non-Null Count  Dtype  \n",
      "---  ------        --------------  -----  \n",
      " 0   genres        28852 non-null  object \n",
      " 1   precio        29676 non-null  float64\n",
      " 2   sentiment     24953 non-null  object \n",
      " 3   release_year  29783 non-null  float64\n",
      "dtypes: float64(2), object(2)\n",
      "memory usage: 1004.3+ KB\n"
     ]
    }
   ],
   "source": [
    "import pandas as pd\n",
    "dframe = pd.read_csv(\"steam_csv\")\n",
    "nuevo_df = dframe[['genres', 'precio', 'sentiment', \"release_year\"]].copy()"
   ]
  },
  {
   "cell_type": "code",
   "execution_count": 65,
   "metadata": {},
   "outputs": [],
   "source": [
    "df1 = nuevo_df.dropna(subset=['genres'])"
   ]
  },
  {
   "cell_type": "code",
   "execution_count": 66,
   "metadata": {},
   "outputs": [
    {
     "name": "stdout",
     "output_type": "stream",
     "text": [
      "<class 'pandas.core.frame.DataFrame'>\n",
      "Index: 28852 entries, 0 to 32133\n",
      "Data columns (total 4 columns):\n",
      " #   Column        Non-Null Count  Dtype  \n",
      "---  ------        --------------  -----  \n",
      " 0   genres        28852 non-null  object \n",
      " 1   precio        26710 non-null  float64\n",
      " 2   sentiment     22536 non-null  object \n",
      " 3   release_year  28549 non-null  float64\n",
      "dtypes: float64(2), object(2)\n",
      "memory usage: 1.1+ MB\n"
     ]
    }
   ],
   "source": [
    "df1.info()"
   ]
  },
  {
   "cell_type": "code",
   "execution_count": 68,
   "metadata": {},
   "outputs": [
    {
     "name": "stdout",
     "output_type": "stream",
     "text": [
      "<class 'pandas.core.frame.DataFrame'>\n",
      "Index: 20789 entries, 0 to 32133\n",
      "Data columns (total 4 columns):\n",
      " #   Column        Non-Null Count  Dtype  \n",
      "---  ------        --------------  -----  \n",
      " 0   genres        20789 non-null  object \n",
      " 1   precio        19410 non-null  float64\n",
      " 2   sentiment     15731 non-null  object \n",
      " 3   release_year  20789 non-null  float64\n",
      "dtypes: float64(2), object(2)\n",
      "memory usage: 812.1+ KB\n"
     ]
    }
   ],
   "source": [
    "df1 = df1[df1['release_year']>= 2015]\n",
    "df1.info()"
   ]
  },
  {
   "cell_type": "code",
   "execution_count": 69,
   "metadata": {},
   "outputs": [
    {
     "name": "stdout",
     "output_type": "stream",
     "text": [
      "<class 'pandas.core.frame.DataFrame'>\n",
      "Index: 20789 entries, 0 to 32133\n",
      "Data columns (total 4 columns):\n",
      " #   Column        Non-Null Count  Dtype  \n",
      "---  ------        --------------  -----  \n",
      " 0   genres        20789 non-null  object \n",
      " 1   precio        19410 non-null  float64\n",
      " 2   sentiment     15731 non-null  object \n",
      " 3   release_year  20789 non-null  float64\n",
      "dtypes: float64(2), object(2)\n",
      "memory usage: 812.1+ KB\n"
     ]
    }
   ],
   "source": [
    "df1 = df1.dropna(subset=['genres'])\n",
    "df1.info()"
   ]
  },
  {
   "cell_type": "code",
   "execution_count": 70,
   "metadata": {},
   "outputs": [
    {
     "data": {
      "text/html": [
       "<div>\n",
       "<style scoped>\n",
       "    .dataframe tbody tr th:only-of-type {\n",
       "        vertical-align: middle;\n",
       "    }\n",
       "\n",
       "    .dataframe tbody tr th {\n",
       "        vertical-align: top;\n",
       "    }\n",
       "\n",
       "    .dataframe thead th {\n",
       "        text-align: right;\n",
       "    }\n",
       "</style>\n",
       "<table border=\"1\" class=\"dataframe\">\n",
       "  <thead>\n",
       "    <tr style=\"text-align: right;\">\n",
       "      <th></th>\n",
       "      <th>genres</th>\n",
       "      <th>precio</th>\n",
       "      <th>sentiment</th>\n",
       "      <th>release_year</th>\n",
       "    </tr>\n",
       "  </thead>\n",
       "  <tbody>\n",
       "    <tr>\n",
       "      <th>0</th>\n",
       "      <td>['Action', 'Casual', 'Indie', 'Simulation', 'S...</td>\n",
       "      <td>4.99</td>\n",
       "      <td>NaN</td>\n",
       "      <td>2018.0</td>\n",
       "    </tr>\n",
       "    <tr>\n",
       "      <th>3</th>\n",
       "      <td>['Action', 'Adventure', 'Casual']</td>\n",
       "      <td>0.99</td>\n",
       "      <td>NaN</td>\n",
       "      <td>2017.0</td>\n",
       "    </tr>\n",
       "    <tr>\n",
       "      <th>5</th>\n",
       "      <td>['Action', 'Adventure', 'Simulation']</td>\n",
       "      <td>3.99</td>\n",
       "      <td>Mixed</td>\n",
       "      <td>2018.0</td>\n",
       "    </tr>\n",
       "    <tr>\n",
       "      <th>6</th>\n",
       "      <td>['Free to Play', 'Indie', 'Simulation', 'Sports']</td>\n",
       "      <td>9.99</td>\n",
       "      <td>NaN</td>\n",
       "      <td>2018.0</td>\n",
       "    </tr>\n",
       "    <tr>\n",
       "      <th>7</th>\n",
       "      <td>['Free to Play', 'Indie', 'Simulation', 'Sports']</td>\n",
       "      <td>18.99</td>\n",
       "      <td>NaN</td>\n",
       "      <td>2018.0</td>\n",
       "    </tr>\n",
       "  </tbody>\n",
       "</table>\n",
       "</div>"
      ],
      "text/plain": [
       "                                              genres  precio sentiment   \n",
       "0  ['Action', 'Casual', 'Indie', 'Simulation', 'S...    4.99       NaN  \\\n",
       "3                  ['Action', 'Adventure', 'Casual']    0.99       NaN   \n",
       "5              ['Action', 'Adventure', 'Simulation']    3.99     Mixed   \n",
       "6  ['Free to Play', 'Indie', 'Simulation', 'Sports']    9.99       NaN   \n",
       "7  ['Free to Play', 'Indie', 'Simulation', 'Sports']   18.99       NaN   \n",
       "\n",
       "   release_year  \n",
       "0        2018.0  \n",
       "3        2017.0  \n",
       "5        2018.0  \n",
       "6        2018.0  \n",
       "7        2018.0  "
      ]
     },
     "execution_count": 70,
     "metadata": {},
     "output_type": "execute_result"
    }
   ],
   "source": [
    "df1 = df1.dropna(subset=['precio'])\n",
    "df1.head()"
   ]
  },
  {
   "cell_type": "code",
   "execution_count": 71,
   "metadata": {},
   "outputs": [
    {
     "data": {
      "text/plain": [
       "array([nan, 'Mixed', '1 user reviews', '3 user reviews',\n",
       "       'Mostly Positive', '6 user reviews', '5 user reviews',\n",
       "       '2 user reviews', 'Overwhelmingly Positive', 'Very Negative',\n",
       "       'Very Positive', 'Mostly Negative', 'Positive', '9 user reviews',\n",
       "       '8 user reviews', '7 user reviews', 'Negative', '4 user reviews',\n",
       "       'Overwhelmingly Negative'], dtype=object)"
      ]
     },
     "execution_count": 71,
     "metadata": {},
     "output_type": "execute_result"
    }
   ],
   "source": [
    "df1['sentiment'].unique()"
   ]
  },
  {
   "cell_type": "code",
   "execution_count": 72,
   "metadata": {},
   "outputs": [],
   "source": [
    "valores_a_borrar = ['1 user reviews', '3 user reviews', '6 user reviews', '5 user reviews', '2 user reviews', '4 user reviews', '8 user reviews', '7 user reviews', '9 user reviews']"
   ]
  },
  {
   "cell_type": "code",
   "execution_count": 74,
   "metadata": {},
   "outputs": [
    {
     "name": "stdout",
     "output_type": "stream",
     "text": [
      "<class 'pandas.core.frame.DataFrame'>\n",
      "Index: 13041 entries, 0 to 32132\n",
      "Data columns (total 4 columns):\n",
      " #   Column        Non-Null Count  Dtype  \n",
      "---  ------        --------------  -----  \n",
      " 0   genres        13041 non-null  object \n",
      " 1   precio        13041 non-null  float64\n",
      " 2   sentiment     8224 non-null   object \n",
      " 3   release_year  13041 non-null  float64\n",
      "dtypes: float64(2), object(2)\n",
      "memory usage: 509.4+ KB\n"
     ]
    }
   ],
   "source": [
    "df1 = df1[~df1['sentiment'].isin(valores_a_borrar)]\n",
    "df1.info()"
   ]
  },
  {
   "cell_type": "code",
   "execution_count": 75,
   "metadata": {},
   "outputs": [],
   "source": [
    "import pandas as pd\n",
    "from sklearn.model_selection import train_test_split\n",
    "from sklearn.linear_model import LinearRegression\n",
    "from sklearn.preprocessing import LabelEncoder\n",
    "from sklearn.metrics import mean_squared_error\n",
    "\n",
    "\n",
    "def prediccion(genero, sentiment):\n",
    "    # Filtro el DF por género y sentimiento\n",
    "    datos_filtrados = df1[df1['genres'].apply(lambda x: genero in x)]\n",
    "    \n",
    "    # Codificamos las categorías de sentimiento utilizando Label Encoding\n",
    "    le = LabelEncoder()\n",
    "    datos_filtrados['sentiment_encoded'] = le.fit_transform(datos_filtrados['sentiment'])\n",
    "    \n",
    "    # Divido los datos en conjuntos de entrenamiento y prueba\n",
    "    X = datos_filtrados[['precio', 'release_year']]\n",
    "    y = datos_filtrados['sentiment_encoded']\n",
    "    X_train, X_test, y_train, y_test = train_test_split(X, y, test_size=0.2, random_state=42)\n",
    "    \n",
    "    # Verificar si hay suficientes datos para entrenar el modelo\n",
    "    if len(X_train) < 2:\n",
    "        return None, None\n",
    "    \n",
    "    # Creo y entreno el modelo de regresión lineal\n",
    "    modelo = LinearRegression()\n",
    "    modelo.fit(X_train, y_train)\n",
    "    \n",
    "    # Realizamos predicciones en el conjunto de prueba\n",
    "    y_pred = modelo.predict(X_test)\n",
    "    \n",
    "    # Calculao el RMSE\n",
    "    rmse = mean_squared_error(y_test, y_pred, squared=False)\n",
    "    \n",
    "    # Retorna el precio y el RMSE\n",
    "    return datos_filtrados['precio'].values[0], rmse"
   ]
  },
  {
   "cell_type": "code",
   "execution_count": 81,
   "metadata": {},
   "outputs": [
    {
     "name": "stdout",
     "output_type": "stream",
     "text": [
      "(4.99, 3.0986038653345482)\n"
     ]
    },
    {
     "name": "stderr",
     "output_type": "stream",
     "text": [
      "C:\\Users\\emily\\AppData\\Local\\Temp\\ipykernel_19764\\2331766796.py:14: SettingWithCopyWarning: \n",
      "A value is trying to be set on a copy of a slice from a DataFrame.\n",
      "Try using .loc[row_indexer,col_indexer] = value instead\n",
      "\n",
      "See the caveats in the documentation: https://pandas.pydata.org/pandas-docs/stable/user_guide/indexing.html#returning-a-view-versus-a-copy\n",
      "  datos_filtrados['sentiment_encoded'] = le.fit_transform(datos_filtrados['sentiment'])\n"
     ]
    }
   ],
   "source": [
    "print(prediccion(\"Simulation\", \"Positive\"))"
   ]
  }
 ],
 "metadata": {
  "kernelspec": {
   "display_name": "Python 3",
   "language": "python",
   "name": "python3"
  },
  "language_info": {
   "codemirror_mode": {
    "name": "ipython",
    "version": 3
   },
   "file_extension": ".py",
   "mimetype": "text/x-python",
   "name": "python",
   "nbconvert_exporter": "python",
   "pygments_lexer": "ipython3",
   "version": "3.11.2"
  },
  "orig_nbformat": 4
 },
 "nbformat": 4,
 "nbformat_minor": 2
}
